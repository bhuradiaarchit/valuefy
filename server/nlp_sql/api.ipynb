{
 "cells": [
  {
   "cell_type": "code",
   "execution_count": 2,
   "metadata": {},
   "outputs": [],
   "source": [
    "import vanna as vn"
   ]
  },
  {
   "cell_type": "code",
   "execution_count": null,
   "metadata": {},
   "outputs": [
    {
     "ename": "Exception",
     "evalue": "\nPlease switch to the following method for initializing Vanna:\n\nfrom vanna.remote import VannaDefault\n\napi_key = # Your API key from https://vanna.ai/account/profile \nvanna_model_name = # Your model name from https://vanna.ai/account/profile\n                    \nvn = VannaDefault(model=vanna_model_name, api_key=api_key)\n",
     "output_type": "error",
     "traceback": [
      "\u001b[1;31m---------------------------------------------------------------------------\u001b[0m",
      "\u001b[1;31mException\u001b[0m                                 Traceback (most recent call last)",
      "Cell \u001b[1;32mIn[4], line 1\u001b[0m\n\u001b[1;32m----> 1\u001b[0m models \u001b[38;5;241m=\u001b[39m \u001b[43mvn\u001b[49m\u001b[38;5;241;43m.\u001b[39;49m\u001b[43mget_models\u001b[49m\u001b[43m(\u001b[49m\u001b[43m)\u001b[49m\n",
      "File \u001b[1;32md:\\ana\\envs\\cloudraft_lavague\\lib\\site-packages\\vanna\\__init__.py:138\u001b[0m, in \u001b[0;36mget_models\u001b[1;34m()\u001b[0m\n\u001b[0;32m    137\u001b[0m \u001b[38;5;28;01mdef\u001b[39;00m \u001b[38;5;21mget_models\u001b[39m() \u001b[38;5;241m-\u001b[39m\u001b[38;5;241m>\u001b[39m List[\u001b[38;5;28mstr\u001b[39m]:\n\u001b[1;32m--> 138\u001b[0m     \u001b[43merror_deprecation\u001b[49m\u001b[43m(\u001b[49m\u001b[43m)\u001b[49m\n",
      "File \u001b[1;32md:\\ana\\envs\\cloudraft_lavague\\lib\\site-packages\\vanna\\__init__.py:47\u001b[0m, in \u001b[0;36merror_deprecation\u001b[1;34m()\u001b[0m\n\u001b[0;32m     46\u001b[0m \u001b[38;5;28;01mdef\u001b[39;00m \u001b[38;5;21merror_deprecation\u001b[39m():\n\u001b[1;32m---> 47\u001b[0m     \u001b[38;5;28;01mraise\u001b[39;00m \u001b[38;5;167;01mException\u001b[39;00m(\u001b[38;5;124m\"\"\"\u001b[39m\n\u001b[0;32m     48\u001b[0m \u001b[38;5;124mPlease switch to the following method for initializing Vanna:\u001b[39m\n\u001b[0;32m     49\u001b[0m \n\u001b[0;32m     50\u001b[0m \u001b[38;5;124mfrom vanna.remote import VannaDefault\u001b[39m\n\u001b[0;32m     51\u001b[0m \n\u001b[0;32m     52\u001b[0m \u001b[38;5;124mapi_key = # Your API key from https://vanna.ai/account/profile \u001b[39m\n\u001b[0;32m     53\u001b[0m \u001b[38;5;124mvanna_model_name = # Your model name from https://vanna.ai/account/profile\u001b[39m\n\u001b[0;32m     54\u001b[0m \u001b[38;5;124m                    \u001b[39m\n\u001b[0;32m     55\u001b[0m \u001b[38;5;124mvn = VannaDefault(model=vanna_model_name, api_key=api_key)\u001b[39m\n\u001b[0;32m     56\u001b[0m \u001b[38;5;124m\"\"\"\u001b[39m)\n",
      "\u001b[1;31mException\u001b[0m: \nPlease switch to the following method for initializing Vanna:\n\nfrom vanna.remote import VannaDefault\n\napi_key = # Your API key from https://vanna.ai/account/profile \nvanna_model_name = # Your model name from https://vanna.ai/account/profile\n                    \nvn = VannaDefault(model=vanna_model_name, api_key=api_key)\n"
     ]
    }
   ],
   "source": [
    "from vanna.remote import VannaDefault\n",
    "\n",
    "vn = VannaDefault(model='chinook', api_key='ceca89a81d484cc2aebde323660484bd')\n",
    "vn.connect_to_sqlite('https://vanna.ai/Chinook.sqlite')\n",
    "vn.ask('What are the top 10 artists by sales?')"
   ]
  }
 ],
 "metadata": {
  "kernelspec": {
   "display_name": "cloudraft_lavague",
   "language": "python",
   "name": "python3"
  },
  "language_info": {
   "codemirror_mode": {
    "name": "ipython",
    "version": 3
   },
   "file_extension": ".py",
   "mimetype": "text/x-python",
   "name": "python",
   "nbconvert_exporter": "python",
   "pygments_lexer": "ipython3",
   "version": "3.10.12"
  }
 },
 "nbformat": 4,
 "nbformat_minor": 2
}
