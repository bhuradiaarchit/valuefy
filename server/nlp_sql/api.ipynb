{
 "cells": [
  {
   "cell_type": "code",
   "execution_count": 1,
   "metadata": {},
   "outputs": [
    {
     "data": {
      "text/plain": [
       "True"
      ]
     },
     "execution_count": 1,
     "metadata": {},
     "output_type": "execute_result"
    }
   ],
   "source": [
    "import vanna as vn\n",
    "from dotenv import load_dotenv\n",
    "import os\n",
    "load_dotenv()"
   ]
  },
  {
   "cell_type": "code",
   "execution_count": 2,
   "metadata": {},
   "outputs": [],
   "source": [
    "import vanna as vn\n",
    "api_key = vn.get_api_key('arinzingade29@gmail.com')"
   ]
  },
  {
   "cell_type": "code",
   "execution_count": 3,
   "metadata": {},
   "outputs": [
    {
     "name": "stdout",
     "output_type": "stream",
     "text": [
      "vn-9c3d4c4e66ad47d1b6348b78e2cc20c3\n"
     ]
    }
   ],
   "source": [
    "print(api_key)"
   ]
  },
  {
   "cell_type": "code",
   "execution_count": 19,
   "metadata": {},
   "outputs": [],
   "source": [
    "from vanna.remote import VannaDefault\n",
    "vn = VannaDefault(model='valuefy-model', api_key='ceca89a81d484cc2aebde323660484bd')\n",
    "\n",
    "\n",
    "vn.connect_to_postgres(host=os.getenv('DB_HOST'), \n",
    "                       dbname=os.getenv('DB_NAME'), \n",
    "                       user=os.getenv('DB_USER'), \n",
    "                       password=os.getenv('DB_PASSWORD'), \n",
    "                       port=os.getenv('DB_PORT'))"
   ]
  },
  {
   "cell_type": "code",
   "execution_count": 20,
   "metadata": {},
   "outputs": [],
   "source": [
    "df_information_schema = vn.run_sql(\"SELECT * FROM INFORMATION_SCHEMA.COLUMNS\")"
   ]
  },
  {
   "cell_type": "code",
   "execution_count": 21,
   "metadata": {},
   "outputs": [
    {
     "data": {
      "text/plain": [
       "Train on Information Schema: postgres.information_schema role_column_grants\n",
       "Train on Information Schema: postgres.information_schema columns\n",
       "Train on Information Schema: postgres.information_schema sql_features\n",
       "Train on Information Schema: postgres.information_schema element_types\n",
       "Train on Information Schema: postgres.information_schema routines\n",
       "Train on Information Schema: postgres.information_schema domains\n",
       "Train on Information Schema: postgres.information_schema attributes\n",
       "Train on Information Schema: postgres.information_schema character_sets\n",
       "Train on Information Schema: postgres.information_schema usage_privileges\n",
       "Train on Information Schema: postgres.information_schema routine_table_usage\n",
       "Train on Information Schema: postgres.information_schema tables\n",
       "Train on Information Schema: postgres.information_schema user_defined_types\n",
       "Train on Information Schema: postgres.information_schema foreign_table_options\n",
       "Train on Information Schema: postgres.information_schema domain_constraints\n",
       "Train on Information Schema: postgres.information_schema parameters\n",
       "Train on Information Schema: postgres.information_schema schemata\n",
       "Train on Information Schema: postgres.information_schema view_column_usage\n",
       "Train on Information Schema: postgres.information_schema triggered_update_columns\n",
       "Train on Information Schema: postgres.information_schema referential_constraints\n",
       "Train on Information Schema: postgres.information_schema udt_privileges\n",
       "Train on Information Schema: postgres.information_schema sql_implementation_info\n",
       "Train on Information Schema: postgres.information_schema column_udt_usage\n",
       "Train on Information Schema: postgres.information_schema triggers\n",
       "Train on Information Schema: postgres.information_schema column_privileges\n",
       "Train on Information Schema: postgres.information_schema table_privileges\n",
       "Train on Information Schema: postgres.information_schema _pg_foreign_data_wrappers\n",
       "Train on Information Schema: postgres.information_schema view_routine_usage\n",
       "Train on Information Schema: postgres.information_schema views\n",
       "Train on Information Schema: postgres.information_schema enabled_roles\n",
       "Train on Information Schema: postgres.information_schema column_domain_usage\n",
       "Train on Information Schema: postgres.information_schema table_constraints\n",
       "Train on Information Schema: postgres.information_schema check_constraints\n",
       "Train on Information Schema: postgres.information_schema user_mappings\n",
       "Train on Information Schema: postgres.information_schema transforms\n",
       "Train on Information Schema: postgres.information_schema foreign_tables\n",
       "Train on Information Schema: postgres.information_schema role_routine_grants\n",
       "Train on Information Schema: postgres.information_schema role_table_grants\n",
       "Train on Information Schema: postgres.information_schema sql_sizing\n",
       "Train on Information Schema: postgres.information_schema column_column_usage\n",
       "Train on Information Schema: postgres.information_schema sql_parts\n",
       "Train on Information Schema: postgres.information_schema applicable_roles\n",
       "Train on Information Schema: postgres.information_schema foreign_servers\n",
       "Train on Information Schema: postgres.information_schema role_udt_grants\n",
       "Train on Information Schema: postgres.information_schema key_column_usage\n",
       "Train on Information Schema: postgres.information_schema column_options\n",
       "Train on Information Schema: postgres.information_schema role_usage_grants\n",
       "Train on Information Schema: postgres.information_schema constraint_table_usage\n",
       "Train on Information Schema: postgres.information_schema routine_sequence_usage\n",
       "Train on Information Schema: postgres.information_schema _pg_foreign_servers\n",
       "Train on Information Schema: postgres.information_schema sequences\n",
       "Train on Information Schema: postgres.information_schema routine_column_usage\n",
       "Train on Information Schema: postgres.information_schema routine_routine_usage\n",
       "Train on Information Schema: postgres.information_schema _pg_user_mappings\n",
       "Train on Information Schema: postgres.information_schema _pg_foreign_tables\n",
       "Train on Information Schema: postgres.information_schema routine_privileges\n",
       "Train on Information Schema: postgres.information_schema constraint_column_usage\n",
       "Train on Information Schema: postgres.information_schema collation_character_set_applicability\n",
       "Train on Information Schema: postgres.information_schema foreign_data_wrapper_options\n",
       "Train on Information Schema: postgres.information_schema domain_udt_usage\n",
       "Train on Information Schema: postgres.information_schema view_table_usage\n",
       "Train on Information Schema: postgres.information_schema _pg_foreign_table_columns\n",
       "Train on Information Schema: postgres.information_schema user_mapping_options\n",
       "Train on Information Schema: postgres.information_schema check_constraint_routine_usage\n",
       "Train on Information Schema: postgres.information_schema administrable_role_authorizations\n",
       "Train on Information Schema: postgres.information_schema foreign_data_wrappers\n",
       "Train on Information Schema: postgres.information_schema data_type_privileges\n",
       "Train on Information Schema: postgres.information_schema collations\n",
       "Train on Information Schema: postgres.information_schema foreign_server_options\n",
       "Train on Information Schema: postgres.information_schema information_schema_catalog_name\n",
       "Train on Information Schema: postgres.pg_catalog pg_type\n",
       "Train on Information Schema: postgres.pg_catalog pg_class\n",
       "Train on Information Schema: postgres.pg_catalog pg_stat_ssl\n",
       "Train on Information Schema: postgres.pg_catalog pg_index\n",
       "Train on Information Schema: postgres.pg_catalog pg_attribute\n",
       "Train on Information Schema: postgres.pg_catalog pg_stat_progress_cluster\n",
       "Train on Information Schema: postgres.pg_catalog pg_shseclabel\n",
       "Train on Information Schema: postgres.pg_catalog pg_indexes\n",
       "Train on Information Schema: postgres.pg_catalog pg_database\n",
       "Train on Information Schema: postgres.pg_catalog pg_amproc\n",
       "Train on Information Schema: postgres.pg_catalog pg_stat_progress_vacuum\n",
       "Train on Information Schema: postgres.pg_catalog pg_stat_database\n",
       "Train on Information Schema: postgres.pg_catalog pg_default_acl\n",
       "Train on Information Schema: postgres.pg_catalog pg_stat_user_tables\n",
       "Train on Information Schema: postgres.pg_catalog pg_largeobject\n",
       "Train on Information Schema: postgres.pg_catalog pg_statio_sys_tables\n",
       "Train on Information Schema: postgres.pg_catalog pg_shadow\n",
       "Train on Information Schema: postgres.pg_catalog pg_locks\n",
       "Train on Information Schema: postgres.pg_catalog pg_available_extensions\n",
       "Train on Information Schema: postgres.pg_catalog pg_stat_bgwriter\n",
       "Train on Information Schema: postgres.pg_catalog pg_collation\n",
       "Train on Information Schema: postgres.pg_catalog pg_ts_config\n",
       "Train on Information Schema: postgres.pg_catalog pg_stat_all_tables\n",
       "Train on Information Schema: postgres.pg_catalog pg_stat_sys_tables\n",
       "Train on Information Schema: postgres.pg_catalog pg_cast\n",
       "Train on Information Schema: postgres.pg_catalog pg_enum\n",
       "Train on Information Schema: postgres.pg_catalog pg_stat_xact_user_functions\n",
       "Train on Information Schema: postgres.pg_catalog pg_stat_sys_indexes\n",
       "Train on Information Schema: postgres.pg_catalog pg_stat_activity\n",
       "Train on Information Schema: postgres.pg_catalog pg_stat_replication\n",
       "Train on Information Schema: postgres.pg_catalog pg_rewrite\n",
       "Train on Information Schema: postgres.pg_catalog pg_depend\n",
       "Train on Information Schema: postgres.pg_catalog pg_available_extension_versions\n",
       "Train on Information Schema: postgres.pg_catalog pg_tables\n",
       "Train on Information Schema: postgres.pg_catalog pg_sequence\n",
       "Train on Information Schema: postgres.pg_catalog pg_stat_wal\n",
       "Train on Information Schema: postgres.pg_catalog pg_largeobject_metadata\n",
       "Train on Information Schema: postgres.pg_catalog pg_hba_file_rules\n",
       "Train on Information Schema: postgres.pg_catalog pg_stat_progress_basebackup\n",
       "Train on Information Schema: postgres.pg_catalog pg_stat_wal_receiver\n",
       "Train on Information Schema: postgres.pg_catalog pg_statio_user_indexes\n",
       "Train on Information Schema: postgres.pg_catalog pg_statio_user_tables\n",
       "Train on Information Schema: postgres.pg_catalog pg_policy\n",
       "Train on Information Schema: postgres.pg_catalog pg_publication_tables\n",
       "Train on Information Schema: postgres.pg_catalog pg_sequences\n",
       "Train on Information Schema: postgres.pg_catalog pg_stats_ext\n",
       "Train on Information Schema: postgres.pg_catalog pg_stat_all_indexes\n",
       "Train on Information Schema: postgres.pg_catalog pg_foreign_server\n",
       "Train on Information Schema: postgres.pg_catalog pg_trigger\n",
       "Train on Information Schema: postgres.pg_catalog pg_file_settings\n",
       "Train on Information Schema: postgres.pg_catalog pg_stat_xact_sys_tables\n",
       "Train on Information Schema: postgres.pg_catalog pg_stat_user_indexes\n",
       "Train on Information Schema: postgres.pg_catalog pg_event_trigger\n",
       "Train on Information Schema: postgres.pg_catalog pg_stats_ext_exprs\n",
       "Train on Information Schema: postgres.pg_catalog pg_user\n",
       "Train on Information Schema: postgres.pg_catalog pg_auth_members\n",
       "Train on Information Schema: postgres.pg_catalog pg_replication_slots\n",
       "Train on Information Schema: postgres.pg_catalog pg_attrdef\n",
       "Train on Information Schema: postgres.pg_catalog pg_settings\n",
       "Train on Information Schema: postgres.pg_catalog pg_stat_database_conflicts\n",
       "Train on Information Schema: postgres.pg_catalog pg_ident_file_mappings\n",
       "Train on Information Schema: postgres.pg_catalog pg_seclabel\n",
       "Train on Information Schema: postgres.pg_catalog pg_aggregate\n",
       "Train on Information Schema: postgres.pg_catalog pg_ts_template\n",
       "Train on Information Schema: postgres.pg_catalog pg_proc\n",
       "Train on Information Schema: postgres.pg_catalog pg_authid\n",
       "Train on Information Schema: postgres.pg_catalog pg_stat_gssapi\n",
       "Train on Information Schema: postgres.pg_catalog pg_stat_progress_create_index\n",
       "Train on Information Schema: postgres.pg_catalog pg_user_mappings\n",
       "Train on Information Schema: postgres.pg_catalog pg_prepared_statements\n",
       "Train on Information Schema: postgres.pg_catalog pg_statio_all_tables\n",
       "Train on Information Schema: postgres.pg_catalog pg_tablespace\n",
       "Train on Information Schema: postgres.pg_catalog pg_constraint\n",
       "Train on Information Schema: postgres.pg_catalog pg_stat_progress_copy\n",
       "Train on Information Schema: postgres.pg_catalog pg_stat_xact_user_tables\n",
       "Train on Information Schema: postgres.pg_catalog pg_shdepend\n",
       "Train on Information Schema: postgres.pg_catalog pg_statistic\n",
       "Train on Information Schema: postgres.pg_catalog pg_description\n",
       "Train on Information Schema: postgres.pg_catalog pg_operator\n",
       "Train on Information Schema: postgres.pg_catalog pg_publication_rel\n",
       "Train on Information Schema: postgres.pg_catalog pg_stat_xact_all_tables\n",
       "Train on Information Schema: postgres.pg_catalog pg_cursors\n",
       "Train on Information Schema: postgres.pg_catalog pg_language\n",
       "Train on Information Schema: postgres.pg_catalog pg_transform\n",
       "Train on Information Schema: postgres.pg_catalog pg_ts_parser\n",
       "Train on Information Schema: postgres.pg_catalog pg_timezone_names\n",
       "Train on Information Schema: postgres.pg_catalog pg_statio_all_indexes\n",
       "Train on Information Schema: postgres.pg_catalog pg_stats\n",
       "Train on Information Schema: postgres.pg_catalog pg_db_role_setting\n",
       "Train on Information Schema: postgres.pg_catalog pg_statistic_ext\n",
       "Train on Information Schema: postgres.pg_catalog pg_stat_recovery_prefetch\n",
       "Train on Information Schema: postgres.pg_catalog pg_extension\n",
       "Train on Information Schema: postgres.pg_catalog pg_foreign_data_wrapper\n",
       "Train on Information Schema: postgres.pg_catalog pg_stat_progress_analyze\n",
       "Train on Information Schema: postgres.pg_catalog pg_seclabels\n",
       "Train on Information Schema: postgres.pg_catalog pg_amop\n",
       "Train on Information Schema: postgres.pg_catalog pg_backend_memory_contexts\n",
       "Train on Information Schema: postgres.pg_catalog pg_subscription\n",
       "Train on Information Schema: postgres.pg_catalog pg_publication\n",
       "Train on Information Schema: postgres.pg_catalog pg_opclass\n",
       "Train on Information Schema: postgres.pg_catalog pg_policies\n",
       "Train on Information Schema: postgres.pg_catalog pg_matviews\n",
       "Train on Information Schema: postgres.pg_catalog pg_stat_subscription\n",
       "Train on Information Schema: postgres.pg_catalog pg_replication_origin\n",
       "Train on Information Schema: postgres.pg_catalog pg_stat_user_functions\n",
       "Train on Information Schema: postgres.pg_catalog pg_conversion\n",
       "Train on Information Schema: postgres.pg_catalog pg_partitioned_table\n",
       "Train on Information Schema: postgres.pg_catalog pg_range\n",
       "Train on Information Schema: postgres.pg_catalog pg_roles\n",
       "Train on Information Schema: postgres.pg_catalog pg_stat_slru\n",
       "Train on Information Schema: postgres.pg_catalog pg_stat_archiver\n",
       "Train on Information Schema: postgres.pg_catalog pg_user_mapping\n",
       "Train on Information Schema: postgres.pg_catalog pg_stat_replication_slots\n",
       "Train on Information Schema: postgres.pg_catalog pg_statio_sys_indexes\n",
       "Train on Information Schema: postgres.pg_catalog pg_publication_namespace\n",
       "Train on Information Schema: postgres.pg_catalog pg_ts_dict\n",
       "Train on Information Schema: postgres.pg_catalog pg_parameter_acl\n",
       "Train on Information Schema: postgres.pg_catalog pg_statistic_ext_data\n",
       "Train on Information Schema: postgres.pg_catalog pg_statio_user_sequences\n",
       "Train on Information Schema: postgres.pg_catalog pg_group\n",
       "Train on Information Schema: postgres.pg_catalog pg_statio_sys_sequences\n",
       "Train on Information Schema: postgres.pg_catalog pg_statio_all_sequences\n",
       "Train on Information Schema: postgres.pg_catalog pg_inherits\n",
       "Train on Information Schema: postgres.pg_catalog pg_ts_config_map\n",
       "Train on Information Schema: postgres.pg_catalog pg_replication_origin_status\n",
       "Train on Information Schema: postgres.pg_catalog pg_init_privs\n",
       "Train on Information Schema: postgres.pg_catalog pg_foreign_table\n",
       "Train on Information Schema: postgres.pg_catalog pg_rules\n",
       "Train on Information Schema: postgres.pg_catalog pg_namespace\n",
       "Train on Information Schema: postgres.pg_catalog pg_stat_subscription_stats\n",
       "Train on Information Schema: postgres.pg_catalog pg_views\n",
       "Train on Information Schema: postgres.pg_catalog pg_prepared_xacts\n",
       "Train on Information Schema: postgres.pg_catalog pg_opfamily\n",
       "Train on Information Schema: postgres.pg_catalog pg_am\n",
       "Train on Information Schema: postgres.pg_catalog pg_shmem_allocations\n",
       "Train on Information Schema: postgres.pg_catalog pg_timezone_abbrevs\n",
       "Train on Information Schema: postgres.pg_catalog pg_shdescription\n",
       "Train on Information Schema: postgres.pg_catalog pg_subscription_rel\n",
       "Train on Information Schema: postgres.pg_catalog pg_config\n",
       "Train on Information Schema: postgres.public pg_stat_statements\n",
       "Train on Information Schema: postgres.public bulk_data\n",
       "Train on Information Schema: postgres.public pg_stat_statements_info\n",
       "Train on Information Schema: postgres.public users\n",
       "Train on Information Schema: postgres.tembo heartbeat_table"
      ]
     },
     "execution_count": 21,
     "metadata": {},
     "output_type": "execute_result"
    }
   ],
   "source": [
    "plan = vn.get_training_plan_generic(df_information_schema)\n",
    "plan"
   ]
  },
  {
   "cell_type": "code",
   "execution_count": 46,
   "metadata": {},
   "outputs": [],
   "source": [
    "training_data = vn.get_training_data()\n",
    "training_data.to_csv('vanna.csv')"
   ]
  },
  {
   "cell_type": "code",
   "execution_count": null,
   "metadata": {},
   "outputs": [
    {
     "data": {
      "text/plain": [
       "'4d239f79661f2f2f88a14c768fa210db-sql'"
      ]
     },
     "execution_count": 43,
     "metadata": {},
     "output_type": "execute_result"
    }
   ],
   "source": [
    "vn.train(sql = '''SELECT SUM(quantity_traded * price_per_share) FROM trades WHERE security_name ILIKE '%{security_name}%';''', \n",
    "         question='Fetch the total traded value for a specific security')"
   ]
  }
 ],
 "metadata": {
  "kernelspec": {
   "display_name": "cloudraft_lavague",
   "language": "python",
   "name": "python3"
  },
  "language_info": {
   "codemirror_mode": {
    "name": "ipython",
    "version": 3
   },
   "file_extension": ".py",
   "mimetype": "text/x-python",
   "name": "python",
   "nbconvert_exporter": "python",
   "pygments_lexer": "ipython3",
   "version": "3.10.12"
  }
 },
 "nbformat": 4,
 "nbformat_minor": 2
}
