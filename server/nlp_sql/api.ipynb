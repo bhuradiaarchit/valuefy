{
 "cells": [
  {
   "cell_type": "code",
   "execution_count": 5,
   "metadata": {},
   "outputs": [
    {
     "data": {
      "text/plain": [
       "True"
      ]
     },
     "execution_count": 5,
     "metadata": {},
     "output_type": "execute_result"
    }
   ],
   "source": [
    "import vanna as vn\n",
    "from dotenv import load_dotenv\n",
    "import os\n",
    "load_dotenv()"
   ]
  },
  {
   "cell_type": "code",
   "execution_count": 6,
   "metadata": {},
   "outputs": [],
   "source": [
    "from vanna.remote import VannaDefault\n",
    "vn = VannaDefault(model='valuefy-model', api_key='ceca89a81d484cc2aebde323660484bd')\n",
    "\n",
    "\n",
    "vn.connect_to_postgres(host=os.getenv('DB_HOST'), \n",
    "                       dbname=os.getenv('DB_NAME'), \n",
    "                       user=os.getenv('DB_USER'), \n",
    "                       password=os.getenv('DB_PASSWORD'), \n",
    "                       port=os.getenv('DB_PORT'))"
   ]
  },
  {
   "cell_type": "code",
   "execution_count": 7,
   "metadata": {},
   "outputs": [],
   "source": [
    "df_information_schema = vn.run_sql(\"SELECT * FROM INFORMATION_SCHEMA.COLUMNS\")"
   ]
  },
  {
   "cell_type": "code",
   "execution_count": 8,
   "metadata": {},
   "outputs": [
    {
     "data": {
      "text/plain": [
       "Train on Information Schema: postgres.information_schema role_column_grants\n",
       "Train on Information Schema: postgres.information_schema columns\n",
       "Train on Information Schema: postgres.information_schema sql_features\n",
       "Train on Information Schema: postgres.information_schema element_types\n",
       "Train on Information Schema: postgres.information_schema routines\n",
       "Train on Information Schema: postgres.information_schema domains\n",
       "Train on Information Schema: postgres.information_schema attributes\n",
       "Train on Information Schema: postgres.information_schema character_sets\n",
       "Train on Information Schema: postgres.information_schema usage_privileges\n",
       "Train on Information Schema: postgres.information_schema routine_table_usage\n",
       "Train on Information Schema: postgres.information_schema tables\n",
       "Train on Information Schema: postgres.information_schema user_defined_types\n",
       "Train on Information Schema: postgres.information_schema foreign_table_options\n",
       "Train on Information Schema: postgres.information_schema domain_constraints\n",
       "Train on Information Schema: postgres.information_schema parameters\n",
       "Train on Information Schema: postgres.information_schema schemata\n",
       "Train on Information Schema: postgres.information_schema view_column_usage\n",
       "Train on Information Schema: postgres.information_schema triggered_update_columns\n",
       "Train on Information Schema: postgres.information_schema referential_constraints\n",
       "Train on Information Schema: postgres.information_schema udt_privileges\n",
       "Train on Information Schema: postgres.information_schema sql_implementation_info\n",
       "Train on Information Schema: postgres.information_schema column_udt_usage\n",
       "Train on Information Schema: postgres.information_schema triggers\n",
       "Train on Information Schema: postgres.information_schema column_privileges\n",
       "Train on Information Schema: postgres.information_schema table_privileges\n",
       "Train on Information Schema: postgres.information_schema _pg_foreign_data_wrappers\n",
       "Train on Information Schema: postgres.information_schema view_routine_usage\n",
       "Train on Information Schema: postgres.information_schema views\n",
       "Train on Information Schema: postgres.information_schema enabled_roles\n",
       "Train on Information Schema: postgres.information_schema column_domain_usage\n",
       "Train on Information Schema: postgres.information_schema table_constraints\n",
       "Train on Information Schema: postgres.information_schema check_constraints\n",
       "Train on Information Schema: postgres.information_schema user_mappings\n",
       "Train on Information Schema: postgres.information_schema transforms\n",
       "Train on Information Schema: postgres.information_schema foreign_tables\n",
       "Train on Information Schema: postgres.information_schema role_routine_grants\n",
       "Train on Information Schema: postgres.information_schema role_table_grants\n",
       "Train on Information Schema: postgres.information_schema sql_sizing\n",
       "Train on Information Schema: postgres.information_schema column_column_usage\n",
       "Train on Information Schema: postgres.information_schema sql_parts\n",
       "Train on Information Schema: postgres.information_schema applicable_roles\n",
       "Train on Information Schema: postgres.information_schema foreign_servers\n",
       "Train on Information Schema: postgres.information_schema role_udt_grants\n",
       "Train on Information Schema: postgres.information_schema key_column_usage\n",
       "Train on Information Schema: postgres.information_schema column_options\n",
       "Train on Information Schema: postgres.information_schema role_usage_grants\n",
       "Train on Information Schema: postgres.information_schema constraint_table_usage\n",
       "Train on Information Schema: postgres.information_schema routine_sequence_usage\n",
       "Train on Information Schema: postgres.information_schema _pg_foreign_servers\n",
       "Train on Information Schema: postgres.information_schema sequences\n",
       "Train on Information Schema: postgres.information_schema routine_column_usage\n",
       "Train on Information Schema: postgres.information_schema routine_routine_usage\n",
       "Train on Information Schema: postgres.information_schema _pg_user_mappings\n",
       "Train on Information Schema: postgres.information_schema _pg_foreign_tables\n",
       "Train on Information Schema: postgres.information_schema routine_privileges\n",
       "Train on Information Schema: postgres.information_schema constraint_column_usage\n",
       "Train on Information Schema: postgres.information_schema collation_character_set_applicability\n",
       "Train on Information Schema: postgres.information_schema foreign_data_wrapper_options\n",
       "Train on Information Schema: postgres.information_schema domain_udt_usage\n",
       "Train on Information Schema: postgres.information_schema view_table_usage\n",
       "Train on Information Schema: postgres.information_schema _pg_foreign_table_columns\n",
       "Train on Information Schema: postgres.information_schema user_mapping_options\n",
       "Train on Information Schema: postgres.information_schema check_constraint_routine_usage\n",
       "Train on Information Schema: postgres.information_schema administrable_role_authorizations\n",
       "Train on Information Schema: postgres.information_schema foreign_data_wrappers\n",
       "Train on Information Schema: postgres.information_schema data_type_privileges\n",
       "Train on Information Schema: postgres.information_schema collations\n",
       "Train on Information Schema: postgres.information_schema foreign_server_options\n",
       "Train on Information Schema: postgres.information_schema information_schema_catalog_name\n",
       "Train on Information Schema: postgres.pg_catalog pg_type\n",
       "Train on Information Schema: postgres.pg_catalog pg_class\n",
       "Train on Information Schema: postgres.pg_catalog pg_stat_ssl\n",
       "Train on Information Schema: postgres.pg_catalog pg_index\n",
       "Train on Information Schema: postgres.pg_catalog pg_attribute\n",
       "Train on Information Schema: postgres.pg_catalog pg_stat_progress_cluster\n",
       "Train on Information Schema: postgres.pg_catalog pg_shseclabel\n",
       "Train on Information Schema: postgres.pg_catalog pg_indexes\n",
       "Train on Information Schema: postgres.pg_catalog pg_database\n",
       "Train on Information Schema: postgres.pg_catalog pg_amproc\n",
       "Train on Information Schema: postgres.pg_catalog pg_stat_progress_vacuum\n",
       "Train on Information Schema: postgres.pg_catalog pg_stat_database\n",
       "Train on Information Schema: postgres.pg_catalog pg_default_acl\n",
       "Train on Information Schema: postgres.pg_catalog pg_stat_user_tables\n",
       "Train on Information Schema: postgres.pg_catalog pg_largeobject\n",
       "Train on Information Schema: postgres.pg_catalog pg_statio_sys_tables\n",
       "Train on Information Schema: postgres.pg_catalog pg_shadow\n",
       "Train on Information Schema: postgres.pg_catalog pg_locks\n",
       "Train on Information Schema: postgres.pg_catalog pg_available_extensions\n",
       "Train on Information Schema: postgres.pg_catalog pg_stat_bgwriter\n",
       "Train on Information Schema: postgres.pg_catalog pg_collation\n",
       "Train on Information Schema: postgres.pg_catalog pg_ts_config\n",
       "Train on Information Schema: postgres.pg_catalog pg_stat_all_tables\n",
       "Train on Information Schema: postgres.pg_catalog pg_stat_sys_tables\n",
       "Train on Information Schema: postgres.pg_catalog pg_cast\n",
       "Train on Information Schema: postgres.pg_catalog pg_enum\n",
       "Train on Information Schema: postgres.pg_catalog pg_stat_xact_user_functions\n",
       "Train on Information Schema: postgres.pg_catalog pg_stat_sys_indexes\n",
       "Train on Information Schema: postgres.pg_catalog pg_stat_activity\n",
       "Train on Information Schema: postgres.pg_catalog pg_stat_replication\n",
       "Train on Information Schema: postgres.pg_catalog pg_rewrite\n",
       "Train on Information Schema: postgres.pg_catalog pg_depend\n",
       "Train on Information Schema: postgres.pg_catalog pg_available_extension_versions\n",
       "Train on Information Schema: postgres.pg_catalog pg_tables\n",
       "Train on Information Schema: postgres.pg_catalog pg_sequence\n",
       "Train on Information Schema: postgres.pg_catalog pg_stat_wal\n",
       "Train on Information Schema: postgres.pg_catalog pg_largeobject_metadata\n",
       "Train on Information Schema: postgres.pg_catalog pg_hba_file_rules\n",
       "Train on Information Schema: postgres.pg_catalog pg_stat_progress_basebackup\n",
       "Train on Information Schema: postgres.pg_catalog pg_stat_wal_receiver\n",
       "Train on Information Schema: postgres.pg_catalog pg_statio_user_indexes\n",
       "Train on Information Schema: postgres.pg_catalog pg_statio_user_tables\n",
       "Train on Information Schema: postgres.pg_catalog pg_policy\n",
       "Train on Information Schema: postgres.pg_catalog pg_publication_tables\n",
       "Train on Information Schema: postgres.pg_catalog pg_sequences\n",
       "Train on Information Schema: postgres.pg_catalog pg_stats_ext\n",
       "Train on Information Schema: postgres.pg_catalog pg_stat_all_indexes\n",
       "Train on Information Schema: postgres.pg_catalog pg_foreign_server\n",
       "Train on Information Schema: postgres.pg_catalog pg_trigger\n",
       "Train on Information Schema: postgres.pg_catalog pg_file_settings\n",
       "Train on Information Schema: postgres.pg_catalog pg_stat_xact_sys_tables\n",
       "Train on Information Schema: postgres.pg_catalog pg_stat_user_indexes\n",
       "Train on Information Schema: postgres.pg_catalog pg_event_trigger\n",
       "Train on Information Schema: postgres.pg_catalog pg_stats_ext_exprs\n",
       "Train on Information Schema: postgres.pg_catalog pg_user\n",
       "Train on Information Schema: postgres.pg_catalog pg_auth_members\n",
       "Train on Information Schema: postgres.pg_catalog pg_replication_slots\n",
       "Train on Information Schema: postgres.pg_catalog pg_attrdef\n",
       "Train on Information Schema: postgres.pg_catalog pg_settings\n",
       "Train on Information Schema: postgres.pg_catalog pg_stat_database_conflicts\n",
       "Train on Information Schema: postgres.pg_catalog pg_ident_file_mappings\n",
       "Train on Information Schema: postgres.pg_catalog pg_seclabel\n",
       "Train on Information Schema: postgres.pg_catalog pg_aggregate\n",
       "Train on Information Schema: postgres.pg_catalog pg_ts_template\n",
       "Train on Information Schema: postgres.pg_catalog pg_proc\n",
       "Train on Information Schema: postgres.pg_catalog pg_authid\n",
       "Train on Information Schema: postgres.pg_catalog pg_stat_gssapi\n",
       "Train on Information Schema: postgres.pg_catalog pg_stat_progress_create_index\n",
       "Train on Information Schema: postgres.pg_catalog pg_user_mappings\n",
       "Train on Information Schema: postgres.pg_catalog pg_prepared_statements\n",
       "Train on Information Schema: postgres.pg_catalog pg_statio_all_tables\n",
       "Train on Information Schema: postgres.pg_catalog pg_tablespace\n",
       "Train on Information Schema: postgres.pg_catalog pg_constraint\n",
       "Train on Information Schema: postgres.pg_catalog pg_stat_progress_copy\n",
       "Train on Information Schema: postgres.pg_catalog pg_stat_xact_user_tables\n",
       "Train on Information Schema: postgres.pg_catalog pg_shdepend\n",
       "Train on Information Schema: postgres.pg_catalog pg_statistic\n",
       "Train on Information Schema: postgres.pg_catalog pg_description\n",
       "Train on Information Schema: postgres.pg_catalog pg_operator\n",
       "Train on Information Schema: postgres.pg_catalog pg_publication_rel\n",
       "Train on Information Schema: postgres.pg_catalog pg_stat_xact_all_tables\n",
       "Train on Information Schema: postgres.pg_catalog pg_cursors\n",
       "Train on Information Schema: postgres.pg_catalog pg_language\n",
       "Train on Information Schema: postgres.pg_catalog pg_transform\n",
       "Train on Information Schema: postgres.pg_catalog pg_ts_parser\n",
       "Train on Information Schema: postgres.pg_catalog pg_timezone_names\n",
       "Train on Information Schema: postgres.pg_catalog pg_statio_all_indexes\n",
       "Train on Information Schema: postgres.pg_catalog pg_stats\n",
       "Train on Information Schema: postgres.pg_catalog pg_db_role_setting\n",
       "Train on Information Schema: postgres.pg_catalog pg_statistic_ext\n",
       "Train on Information Schema: postgres.pg_catalog pg_stat_recovery_prefetch\n",
       "Train on Information Schema: postgres.pg_catalog pg_extension\n",
       "Train on Information Schema: postgres.pg_catalog pg_foreign_data_wrapper\n",
       "Train on Information Schema: postgres.pg_catalog pg_stat_progress_analyze\n",
       "Train on Information Schema: postgres.pg_catalog pg_seclabels\n",
       "Train on Information Schema: postgres.pg_catalog pg_amop\n",
       "Train on Information Schema: postgres.pg_catalog pg_backend_memory_contexts\n",
       "Train on Information Schema: postgres.pg_catalog pg_subscription\n",
       "Train on Information Schema: postgres.pg_catalog pg_publication\n",
       "Train on Information Schema: postgres.pg_catalog pg_opclass\n",
       "Train on Information Schema: postgres.pg_catalog pg_policies\n",
       "Train on Information Schema: postgres.pg_catalog pg_matviews\n",
       "Train on Information Schema: postgres.pg_catalog pg_stat_subscription\n",
       "Train on Information Schema: postgres.pg_catalog pg_replication_origin\n",
       "Train on Information Schema: postgres.pg_catalog pg_stat_user_functions\n",
       "Train on Information Schema: postgres.pg_catalog pg_conversion\n",
       "Train on Information Schema: postgres.pg_catalog pg_partitioned_table\n",
       "Train on Information Schema: postgres.pg_catalog pg_range\n",
       "Train on Information Schema: postgres.pg_catalog pg_roles\n",
       "Train on Information Schema: postgres.pg_catalog pg_stat_slru\n",
       "Train on Information Schema: postgres.pg_catalog pg_stat_archiver\n",
       "Train on Information Schema: postgres.pg_catalog pg_user_mapping\n",
       "Train on Information Schema: postgres.pg_catalog pg_stat_replication_slots\n",
       "Train on Information Schema: postgres.pg_catalog pg_statio_sys_indexes\n",
       "Train on Information Schema: postgres.pg_catalog pg_publication_namespace\n",
       "Train on Information Schema: postgres.pg_catalog pg_ts_dict\n",
       "Train on Information Schema: postgres.pg_catalog pg_parameter_acl\n",
       "Train on Information Schema: postgres.pg_catalog pg_statistic_ext_data\n",
       "Train on Information Schema: postgres.pg_catalog pg_statio_user_sequences\n",
       "Train on Information Schema: postgres.pg_catalog pg_group\n",
       "Train on Information Schema: postgres.pg_catalog pg_statio_sys_sequences\n",
       "Train on Information Schema: postgres.pg_catalog pg_statio_all_sequences\n",
       "Train on Information Schema: postgres.pg_catalog pg_inherits\n",
       "Train on Information Schema: postgres.pg_catalog pg_ts_config_map\n",
       "Train on Information Schema: postgres.pg_catalog pg_replication_origin_status\n",
       "Train on Information Schema: postgres.pg_catalog pg_init_privs\n",
       "Train on Information Schema: postgres.pg_catalog pg_foreign_table\n",
       "Train on Information Schema: postgres.pg_catalog pg_rules\n",
       "Train on Information Schema: postgres.pg_catalog pg_namespace\n",
       "Train on Information Schema: postgres.pg_catalog pg_stat_subscription_stats\n",
       "Train on Information Schema: postgres.pg_catalog pg_views\n",
       "Train on Information Schema: postgres.pg_catalog pg_prepared_xacts\n",
       "Train on Information Schema: postgres.pg_catalog pg_opfamily\n",
       "Train on Information Schema: postgres.pg_catalog pg_am\n",
       "Train on Information Schema: postgres.pg_catalog pg_shmem_allocations\n",
       "Train on Information Schema: postgres.pg_catalog pg_timezone_abbrevs\n",
       "Train on Information Schema: postgres.pg_catalog pg_shdescription\n",
       "Train on Information Schema: postgres.pg_catalog pg_subscription_rel\n",
       "Train on Information Schema: postgres.pg_catalog pg_config\n",
       "Train on Information Schema: postgres.public pg_stat_statements\n",
       "Train on Information Schema: postgres.public bulk_data\n",
       "Train on Information Schema: postgres.public pg_stat_statements_info\n",
       "Train on Information Schema: postgres.public users\n",
       "Train on Information Schema: postgres.tembo heartbeat_table"
      ]
     },
     "execution_count": 8,
     "metadata": {},
     "output_type": "execute_result"
    }
   ],
   "source": [
    "plan = vn.get_training_plan_generic(df_information_schema)\n",
    "plan"
   ]
  },
  {
   "cell_type": "code",
   "execution_count": 9,
   "metadata": {},
   "outputs": [
    {
     "name": "stdout",
     "output_type": "stream",
     "text": [
      "Adding ddl: \n",
      "CREATE TABLE IF NOT EXISTS bulk_data (\n",
      "    id SERIAL PRIMARY KEY,\n",
      "    date DATE,\n",
      "    symbol VARCHAR(50),\n",
      "    security_name VARCHAR(100),\n",
      "    client_name VARCHAR(100),\n",
      "    buy_sell VARCHAR(10),\n",
      "    quantity_traded BIGINT,\n",
      "    trade_price DECIMAL(10,2),\n",
      "    remarks TEXT\n",
      ");\n",
      "\n",
      "\n"
     ]
    },
    {
     "data": {
      "text/plain": [
       "'3794065-ddl'"
      ]
     },
     "execution_count": 9,
     "metadata": {},
     "output_type": "execute_result"
    }
   ],
   "source": [
    "vn.train(ddl=\"\"\"\n",
    "CREATE TABLE IF NOT EXISTS bulk_data (\n",
    "    id SERIAL PRIMARY KEY,\n",
    "    date DATE,\n",
    "    symbol VARCHAR(50),\n",
    "    security_name VARCHAR(100),\n",
    "    client_name VARCHAR(100),\n",
    "    buy_sell VARCHAR(10),\n",
    "    quantity_traded BIGINT,\n",
    "    trade_price DECIMAL(10,2),\n",
    "    remarks TEXT\n",
    ");\n",
    "\n",
    "\"\"\")"
   ]
  },
  {
   "cell_type": "code",
   "execution_count": 10,
   "metadata": {},
   "outputs": [
    {
     "name": "stdout",
     "output_type": "stream",
     "text": [
      "Adding documentation....\n"
     ]
    },
    {
     "data": {
      "text/plain": [
       "'3297212-doc'"
      ]
     },
     "execution_count": 10,
     "metadata": {},
     "output_type": "execute_result"
    }
   ],
   "source": [
    "vn.train(documentation=\"Our business defines the trading activity from instituionals investors in the indian stock markets, so we want to deduce some insights from the available data to buy or sell the stock\")"
   ]
  },
  {
   "cell_type": "code",
   "execution_count": 11,
   "metadata": {},
   "outputs": [
    {
     "data": {
      "text/html": [
       "<div>\n",
       "<style scoped>\n",
       "    .dataframe tbody tr th:only-of-type {\n",
       "        vertical-align: middle;\n",
       "    }\n",
       "\n",
       "    .dataframe tbody tr th {\n",
       "        vertical-align: top;\n",
       "    }\n",
       "\n",
       "    .dataframe thead th {\n",
       "        text-align: right;\n",
       "    }\n",
       "</style>\n",
       "<table border=\"1\" class=\"dataframe\">\n",
       "  <thead>\n",
       "    <tr style=\"text-align: right;\">\n",
       "      <th></th>\n",
       "      <th>id</th>\n",
       "      <th>training_data_type</th>\n",
       "      <th>question</th>\n",
       "      <th>content</th>\n",
       "    </tr>\n",
       "  </thead>\n",
       "  <tbody>\n",
       "    <tr>\n",
       "      <th>0</th>\n",
       "      <td>3794065-ddl</td>\n",
       "      <td>ddl</td>\n",
       "      <td>None</td>\n",
       "      <td>\\nCREATE TABLE IF NOT EXISTS bulk_data (\\n    ...</td>\n",
       "    </tr>\n",
       "    <tr>\n",
       "      <th>1</th>\n",
       "      <td>3767317-ddl</td>\n",
       "      <td>ddl</td>\n",
       "      <td>None</td>\n",
       "      <td>\\nCREATE TABLE IF NOT EXISTS bulk_data (\\n    ...</td>\n",
       "    </tr>\n",
       "    <tr>\n",
       "      <th>2</th>\n",
       "      <td>3297194-doc</td>\n",
       "      <td>documentation</td>\n",
       "      <td>None</td>\n",
       "      <td>Our business defines the trading activity from...</td>\n",
       "    </tr>\n",
       "    <tr>\n",
       "      <th>3</th>\n",
       "      <td>1041200-sql</td>\n",
       "      <td>sql</td>\n",
       "      <td>total_volume is SUM(quantity_traded * trade_pr...</td>\n",
       "      <td>SELECT symbol, \\n       SUM(quantity_traded * ...</td>\n",
       "    </tr>\n",
       "    <tr>\n",
       "      <th>4</th>\n",
       "      <td>3297212-doc</td>\n",
       "      <td>documentation</td>\n",
       "      <td>None</td>\n",
       "      <td>Our business defines the trading activity from...</td>\n",
       "    </tr>\n",
       "  </tbody>\n",
       "</table>\n",
       "</div>"
      ],
      "text/plain": [
       "            id training_data_type  \\\n",
       "0  3794065-ddl                ddl   \n",
       "1  3767317-ddl                ddl   \n",
       "2  3297194-doc      documentation   \n",
       "3  1041200-sql                sql   \n",
       "4  3297212-doc      documentation   \n",
       "\n",
       "                                            question  \\\n",
       "0                                               None   \n",
       "1                                               None   \n",
       "2                                               None   \n",
       "3  total_volume is SUM(quantity_traded * trade_pr...   \n",
       "4                                               None   \n",
       "\n",
       "                                             content  \n",
       "0  \\nCREATE TABLE IF NOT EXISTS bulk_data (\\n    ...  \n",
       "1  \\nCREATE TABLE IF NOT EXISTS bulk_data (\\n    ...  \n",
       "2  Our business defines the trading activity from...  \n",
       "3  SELECT symbol, \\n       SUM(quantity_traded * ...  \n",
       "4  Our business defines the trading activity from...  "
      ]
     },
     "execution_count": 11,
     "metadata": {},
     "output_type": "execute_result"
    }
   ],
   "source": [
    "training_data = vn.get_training_data()\n",
    "training_data"
   ]
  },
  {
   "cell_type": "code",
   "execution_count": null,
   "metadata": {},
   "outputs": [],
   "source": []
  },
  {
   "cell_type": "code",
   "execution_count": null,
   "metadata": {},
   "outputs": [
    {
     "ename": "ValidationError",
     "evalue": "syntax error at or near \"tell\"\nLINE 1: tell me the total_volume by sybmbols\n        ^\n",
     "output_type": "error",
     "traceback": [
      "\u001b[1;31m---------------------------------------------------------------------------\u001b[0m",
      "\u001b[1;31mSyntaxError\u001b[0m                               Traceback (most recent call last)",
      "File \u001b[1;32md:\\ana\\envs\\cloudraft_lavague\\lib\\site-packages\\vanna\\base\\base.py:954\u001b[0m, in \u001b[0;36mVannaBase.connect_to_postgres.<locals>.run_sql_postgres\u001b[1;34m(sql)\u001b[0m\n\u001b[0;32m    953\u001b[0m cs \u001b[38;5;241m=\u001b[39m conn\u001b[38;5;241m.\u001b[39mcursor()\n\u001b[1;32m--> 954\u001b[0m \u001b[43mcs\u001b[49m\u001b[38;5;241;43m.\u001b[39;49m\u001b[43mexecute\u001b[49m\u001b[43m(\u001b[49m\u001b[43msql\u001b[49m\u001b[43m)\u001b[49m\n\u001b[0;32m    955\u001b[0m results \u001b[38;5;241m=\u001b[39m cs\u001b[38;5;241m.\u001b[39mfetchall()\n",
      "\u001b[1;31mSyntaxError\u001b[0m: syntax error at or near \"tell\"\nLINE 1: tell me the total_volume by sybmbols\n        ^\n",
      "\nDuring handling of the above exception, another exception occurred:\n",
      "\u001b[1;31mValidationError\u001b[0m                           Traceback (most recent call last)",
      "Cell \u001b[1;32mIn[14], line 1\u001b[0m\n\u001b[1;32m----> 1\u001b[0m \u001b[43mvn\u001b[49m\u001b[38;5;241;43m.\u001b[39;49m\u001b[43mrun_sql\u001b[49m\u001b[43m(\u001b[49m\u001b[38;5;124;43m\"\u001b[39;49m\u001b[38;5;124;43mtell me the total_volume by sybmbols\u001b[39;49m\u001b[38;5;124;43m\"\u001b[39;49m\u001b[43m)\u001b[49m\n",
      "File \u001b[1;32md:\\ana\\envs\\cloudraft_lavague\\lib\\site-packages\\vanna\\base\\base.py:977\u001b[0m, in \u001b[0;36mVannaBase.connect_to_postgres.<locals>.run_sql_postgres\u001b[1;34m(sql)\u001b[0m\n\u001b[0;32m    975\u001b[0m     \u001b[38;5;28;01mif\u001b[39;00m conn:\n\u001b[0;32m    976\u001b[0m         conn\u001b[38;5;241m.\u001b[39mrollback()\n\u001b[1;32m--> 977\u001b[0m         \u001b[38;5;28;01mraise\u001b[39;00m ValidationError(e)\n\u001b[0;32m    979\u001b[0m \u001b[38;5;28;01mexcept\u001b[39;00m \u001b[38;5;167;01mException\u001b[39;00m \u001b[38;5;28;01mas\u001b[39;00m e:\n\u001b[0;32m    980\u001b[0m             conn\u001b[38;5;241m.\u001b[39mrollback()\n",
      "\u001b[1;31mValidationError\u001b[0m: syntax error at or near \"tell\"\nLINE 1: tell me the total_volume by sybmbols\n        ^\n"
     ]
    }
   ],
   "source": [
    "vn.generate_sql(\"tell me the total_volume by sybmbols\")"
   ]
  },
  {
   "cell_type": "code",
   "execution_count": 4,
   "metadata": {},
   "outputs": [
    {
     "name": "stderr",
     "output_type": "stream",
     "text": [
      "[*********************100%***********************]  47 of 47 completed\n",
      "\n",
      "4 Failed downloads:\n",
      "['NEELAM.NS', 'ONYX.NS', 'PSRAJ.NS', 'KALANA.NS']: YFTzMissingError('possibly delisted; no timezone found')\n"
     ]
    }
   ],
   "source": [
    "import yfinance as yf\n",
    "\n",
    "\n",
    "df = yf.download(['AMIORG.NS', 'ANUP.NS', 'APOLLO.NS', 'ARMANFIN.NS', 'BIRET.NS', 'CARTRADE.NS', 'CHENNPETRO.NS', 'COUNCODOS.NS', 'CPS.NS', 'GLAND.NS', 'GREENPOWER.NS', 'HCC.NS', 'JWL.NS', 'KALANA.NS', 'MAMATA.NS', 'MANAPPURAM.NS', 'MOBIKWIK.NS', 'MOS.NS', 'NAZARA.NS', 'NEELAM.NS', 'NEWJAISA.NS', 'NXST.NS', 'OBCL.NS', 'OLIL.NS', 'ONDOOR.NS', 'ONYX.NS', 'ORICONENT.NS', 'ORIENTALTL.NS', 'ORIENTCEM.NS', 'PRICOLLTD.NS', 'PRUDENT.NS', 'RAYMOND.NS', 'REDINGTON.NS', 'ROCKINGDCE.NS', 'SHILPAMED.NS', 'SUNREST.NS', 'SYSTANGO.NS', 'TCL.NS', 'TDPOWERSYS.NS', 'TEJASNET.NS', 'TI.NS', 'VENUSREM.NS', 'VERTEXPLUS.NS', 'VLEGOV.NS', 'DISHTV.NS', 'GENSOL.NS', 'PSRAJ.NS'], start = '2025-03-20', end = '2025-03-23')"
   ]
  },
  {
   "cell_type": "code",
   "execution_count": 17,
   "metadata": {},
   "outputs": [
    {
     "data": {
      "text/plain": [
       "Ticker\n",
       "AMIORG.NS        0.019240\n",
       "ANUP.NS          0.041729\n",
       "APOLLO.NS        0.060847\n",
       "ARMANFIN.NS      0.145209\n",
       "BIRET.NS         0.037579\n",
       "CARTRADE.NS      0.059510\n",
       "CHENNPETRO.NS    0.099826\n",
       "COUNCODOS.NS     0.070957\n",
       "CPS.NS           0.039706\n",
       "DISHTV.NS        0.035370\n",
       "GENSOL.NS       -0.012021\n",
       "GLAND.NS        -0.003927\n",
       "GREENPOWER.NS    0.065165\n",
       "HCC.NS           0.120423\n",
       "JWL.NS           0.109729\n",
       "KALANA.NS             NaN\n",
       "MAMATA.NS        0.076124\n",
       "MANAPPURAM.NS    0.076598\n",
       "MOBIKWIK.NS      0.011523\n",
       "MOS.NS           0.035467\n",
       "NAZARA.NS        0.012104\n",
       "NEELAM.NS             NaN\n",
       "NEWJAISA.NS      0.049030\n",
       "NXST.NS         -0.043141\n",
       "OBCL.NS          0.034298\n",
       "OLIL.NS          0.027406\n",
       "ONDOOR.NS       -0.004198\n",
       "ONYX.NS               NaN\n",
       "ORICONENT.NS     0.001014\n",
       "ORIENTALTL.NS    0.071577\n",
       "ORIENTCEM.NS    -0.030220\n",
       "PRICOLLTD.NS     0.062863\n",
       "PRUDENT.NS       0.044644\n",
       "PSRAJ.NS              NaN\n",
       "RAYMOND.NS       0.051515\n",
       "REDINGTON.NS     0.099934\n",
       "ROCKINGDCE.NS   -0.072795\n",
       "SHILPAMED.NS     0.038497\n",
       "SUNREST.NS       0.123077\n",
       "SYSTANGO.NS      0.009481\n",
       "TCL.NS          -0.009069\n",
       "TDPOWERSYS.NS    0.041109\n",
       "TEJASNET.NS      0.125827\n",
       "TI.NS            0.063204\n",
       "VENUSREM.NS      0.027097\n",
       "VERTEXPLUS.NS   -0.049847\n",
       "VLEGOV.NS        0.048360\n",
       "Name: 2025-03-21 00:00:00, dtype: float64"
      ]
     },
     "execution_count": 17,
     "metadata": {},
     "output_type": "execute_result"
    }
   ],
   "source": [
    "df['Close'].pct_change().iloc[len(df) - 1]"
   ]
  }
 ],
 "metadata": {
  "kernelspec": {
   "display_name": "cloudraft_lavague",
   "language": "python",
   "name": "python3"
  },
  "language_info": {
   "codemirror_mode": {
    "name": "ipython",
    "version": 3
   },
   "file_extension": ".py",
   "mimetype": "text/x-python",
   "name": "python",
   "nbconvert_exporter": "python",
   "pygments_lexer": "ipython3",
   "version": "3.10.12"
  }
 },
 "nbformat": 4,
 "nbformat_minor": 2
}
